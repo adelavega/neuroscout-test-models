{
 "cells": [
  {
   "cell_type": "code",
   "execution_count": 4,
   "metadata": {
    "collapsed": false,
    "deletable": true,
    "editable": true
   },
   "outputs": [
    {
     "data": {
      "text/plain": [
       "78"
      ]
     },
     "execution_count": 4,
     "metadata": {},
     "output_type": "execute_result"
    }
   ],
   "source": [
    "from pyns import Neuroscout\n",
    "api = Neuroscout('delavega@utexas.edu', 'gjM72*S^L@4U')\n",
    "\n",
    "# Explore feeatures\n",
    "datasets = api.datasets.get()\n",
    "sherlock_preds = [p for p in api.predictors.get(run_id=datasets[0]['runs']) if p['source'] == 'extracted']\n",
    "len(sherlock_preds)"
   ]
  },
  {
   "cell_type": "code",
   "execution_count": 15,
   "metadata": {
    "collapsed": false,
    "deletable": true,
    "editable": true
   },
   "outputs": [
    {
     "data": {
      "text/plain": [
       "81"
      ]
     },
     "execution_count": 15,
     "metadata": {},
     "output_type": "execute_result"
    }
   ],
   "source": [
    "life_preds = [p for p in api.predictors.get(run_id=datasets[1]['runs']) if p['source'] == 'extracted']\n",
    "len(life_preds)"
   ]
  },
  {
   "cell_type": "code",
   "execution_count": 27,
   "metadata": {
    "collapsed": false,
    "deletable": true,
    "editable": true
   },
   "outputs": [],
   "source": [
    "# Life subjects w/ fmriprep\n",
    "life_subs = list(set([a['subject'] for a in api.runs.get(dataset_id=9)]) - set(['rid000032', 'rid000034', 'rid000037']))"
   ]
  },
  {
   "cell_type": "code",
   "execution_count": 17,
   "metadata": {
    "collapsed": false,
    "deletable": true,
    "editable": true
   },
   "outputs": [],
   "source": [
    "visual_features = ['brightness', 'vibrance', 'num_colors_0_07', 'shot_change',\n",
    "                   'animal', 'building', 'car', 'city', 'furniture', 'indoors', 'landscape', 'man', \n",
    "                   'military', 'nature', 'road', 'sky', 'street', 'technology', 'travel', 'wildlife']\n",
    "\n",
    "face = ['face_detectionConfidence']\n",
    "\n",
    "auditory = ['rmse']\n",
    "language = ['speech', 'subtlexusfrequency_Lg10WF']\n",
    "\n",
    "noise = ['aCompCor{:02d}'.format(i) for i in range(0, 6)]\n",
    "cosine = ['Cosine{:02d}'.format(i) for i in range(0, 10)]\n",
    "confounds = noise + cosine + ['FramewiseDisplacement', 'X', 'Y', 'Z', 'RotX', 'RotY', 'RotZ']"
   ]
  },
  {
   "cell_type": "code",
   "execution_count": 18,
   "metadata": {
    "collapsed": false,
    "deletable": true,
    "editable": true
   },
   "outputs": [
    {
     "data": {
      "text/plain": [
       "'97kO9'"
      ]
     },
     "execution_count": 18,
     "metadata": {},
     "output_type": "execute_result"
    }
   ],
   "source": [
    "# Build analyses\n",
    "speech_transform = [\n",
    "        {\n",
    "          \"input\": \"subtlexusfrequency_Lg10WF\",\n",
    "          \"name\": \"scale\",\n",
    "          \"replace_na\": \"after\"\n",
    "        },\n",
    "        {\n",
    "          \"other\": [\n",
    "            \"speech\"\n",
    "          ],\n",
    "          \"input\": \"subtlexusfrequency_Lg10WF\",\n",
    "          \"name\": \"orthogonalize\"\n",
    "        }\n",
    "      ]\n",
    "frequency = api.analyses.create_analysis(\n",
    "    dataset_name='SherlockMerlin', name='Frequency',\n",
    "    predictor_names=language + confounds,\n",
    "    hrf_variables=language,\n",
    "    transformations = speech_transform\n",
    ")\n",
    "\n",
    "frequency.compile()\n",
    "frequency.hash_id"
   ]
  },
  {
   "cell_type": "code",
   "execution_count": 20,
   "metadata": {
    "collapsed": false,
    "deletable": true,
    "editable": true
   },
   "outputs": [
    {
     "data": {
      "text/plain": [
       "{'compile_traceback': '', 'status': 'PASSED'}"
      ]
     },
     "execution_count": 20,
     "metadata": {},
     "output_type": "execute_result"
    }
   ],
   "source": [
    "frequency.get_status()"
   ]
  },
  {
   "cell_type": "code",
   "execution_count": 28,
   "metadata": {
    "collapsed": false,
    "deletable": true,
    "editable": true
   },
   "outputs": [
    {
     "data": {
      "text/plain": [
       "'M48gM'"
      ]
     },
     "execution_count": 28,
     "metadata": {},
     "output_type": "execute_result"
    }
   ],
   "source": [
    "frequency_life = api.analyses.create_analysis(\n",
    "    dataset_name='Life', name='Frequency_Life',\n",
    "    predictor_names=language + confounds,\n",
    "    hrf_variables=language,\n",
    "    transformations = speech_transform,\n",
    "    subject=life_subs\n",
    ")\n",
    "\n",
    "frequency_life.compile()\n",
    "frequency_life.hash_id"
   ]
  },
  {
   "cell_type": "code",
   "execution_count": 37,
   "metadata": {
    "collapsed": false,
    "deletable": true,
    "editable": true
   },
   "outputs": [
    {
     "data": {
      "text/plain": [
       "{'compile_traceback': '', 'status': 'PASSED'}"
      ]
     },
     "execution_count": 37,
     "metadata": {},
     "output_type": "execute_result"
    }
   ],
   "source": [
    "frequency_life.get_status()"
   ]
  },
  {
   "cell_type": "markdown",
   "metadata": {
    "deletable": true,
    "editable": true
   },
   "source": [
    "### All-visual models"
   ]
  },
  {
   "cell_type": "code",
   "execution_count": 31,
   "metadata": {
    "collapsed": false,
    "deletable": true,
    "editable": true
   },
   "outputs": [
    {
     "data": {
      "text/plain": [
       "'A2gpM'"
      ]
     },
     "execution_count": 31,
     "metadata": {},
     "output_type": "execute_result"
    }
   ],
   "source": [
    "# Build visual model\n",
    "all_visual = api.analyses.create_analysis(\n",
    "    dataset_name='SherlockMerlin', name='All_Visual',\n",
    "    predictor_names=visual_features + face + confounds,\n",
    "    hrf_variables=visual_features + face,\n",
    ")\n",
    "all_visual.compile()\n",
    "all_visual.hash_id"
   ]
  },
  {
   "cell_type": "code",
   "execution_count": 36,
   "metadata": {
    "collapsed": false,
    "deletable": true,
    "editable": true
   },
   "outputs": [
    {
     "data": {
      "text/plain": [
       "{'compile_traceback': '', 'status': 'PASSED'}"
      ]
     },
     "execution_count": 36,
     "metadata": {},
     "output_type": "execute_result"
    }
   ],
   "source": [
    "all_visual.get_status()"
   ]
  },
  {
   "cell_type": "code",
   "execution_count": 33,
   "metadata": {
    "collapsed": false,
    "deletable": true,
    "editable": true
   },
   "outputs": [
    {
     "data": {
      "text/plain": [
       "'MN3l9'"
      ]
     },
     "execution_count": 33,
     "metadata": {},
     "output_type": "execute_result"
    }
   ],
   "source": [
    "all_visual_life = api.analyses.create_analysis(\n",
    "    dataset_name='Life', name='All_Visual_NF_Life',\n",
    "    predictor_names=visual_features + confounds,\n",
    "    hrf_variables=visual_features,\n",
    "    subject=life_subs\n",
    ")\n",
    "all_visual_life.compile()\n",
    "all_visual_life.hash_id"
   ]
  },
  {
   "cell_type": "code",
   "execution_count": 35,
   "metadata": {
    "collapsed": false,
    "deletable": true,
    "editable": true
   },
   "outputs": [
    {
     "data": {
      "text/plain": [
       "{'compile_traceback': '', 'status': 'PASSED'}"
      ]
     },
     "execution_count": 35,
     "metadata": {},
     "output_type": "execute_result"
    }
   ],
   "source": [
    "all_visual_life.get_status()"
   ]
  }
 ],
 "metadata": {
  "kernelspec": {
   "display_name": "Python 3",
   "language": "python",
   "name": "python3"
  },
  "language_info": {
   "codemirror_mode": {
    "name": "ipython",
    "version": 3
   },
   "file_extension": ".py",
   "mimetype": "text/x-python",
   "name": "python",
   "nbconvert_exporter": "python",
   "pygments_lexer": "ipython3",
   "version": "3.5.2"
  }
 },
 "nbformat": 4,
 "nbformat_minor": 2
}
